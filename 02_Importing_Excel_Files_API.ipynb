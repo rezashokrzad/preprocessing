{
  "cells": [
    {
      "cell_type": "markdown",
      "source": [
        "#Import Excel Files (.XLS)\n",
        "https://www.superdatascience.com/pages/tableau"
      ],
      "metadata": {
        "id": "7DDZxshY2yLv"
      }
    },
    {
      "cell_type": "code",
      "source": [
        "# Import package\n",
        "import pandas as pd\n",
        "\n",
        "# Assign url of file: url\n",
        "url = 'https://sds-platform-private.s3-us-east-2.amazonaws.com/uploads/P1-SuperStoreUS-2015.xlsx'\n",
        "\n",
        "# Read in all sheets of Excel file: xls\n",
        "xls = pd.read_excel(url, sheet_name=None)"
      ],
      "metadata": {
        "id": "jzE9pHbGXzlW"
      },
      "execution_count": 10,
      "outputs": []
    },
    {
      "cell_type": "code",
      "source": [
        "# Print the sheetnames to the shell\n",
        "print(xls.keys())"
      ],
      "metadata": {
        "colab": {
          "base_uri": "https://localhost:8080/"
        },
        "id": "WDU3MfVt2YM9",
        "outputId": "288ec28e-27f0-47b0-86d5-6092704e1bf8"
      },
      "execution_count": 11,
      "outputs": [
        {
          "output_type": "stream",
          "name": "stdout",
          "text": [
            "dict_keys(['Orders', 'Returns', 'Users'])\n"
          ]
        }
      ]
    },
    {
      "cell_type": "code",
      "source": [
        "# Print the head of the first sheet (using its name, NOT its index)\n",
        "print(xls['Orders'].head())"
      ],
      "metadata": {
        "colab": {
          "base_uri": "https://localhost:8080/"
        },
        "id": "LN5xuSBl2Zaf",
        "outputId": "0b4428f5-3ce2-4cc8-e6be-eee2f410412b"
      },
      "execution_count": 6,
      "outputs": [
        {
          "output_type": "stream",
          "name": "stdout",
          "text": [
            "   Row ID Order Priority  Discount  Unit Price  Shipping Cost  Customer ID  \\\n",
            "0   20847           High      0.01        2.84           0.93            3   \n",
            "1   20228  Not Specified      0.02      500.98          26.00            5   \n",
            "2   21776       Critical      0.06        9.48           7.29           11   \n",
            "3   24844         Medium      0.09       78.69          19.99           14   \n",
            "4   24846         Medium      0.08        3.28           2.31           14   \n",
            "\n",
            "       Customer Name       Ship Mode Customer Segment Product Category  ...  \\\n",
            "0      Bonnie Potter     Express Air        Corporate  Office Supplies  ...   \n",
            "1     Ronnie Proctor  Delivery Truck      Home Office        Furniture  ...   \n",
            "2      Marcus Dunlap     Regular Air      Home Office        Furniture  ...   \n",
            "3  Gwendolyn F Tyson     Regular Air   Small Business        Furniture  ...   \n",
            "4  Gwendolyn F Tyson     Regular Air   Small Business  Office Supplies  ...   \n",
            "\n",
            "    Region State or Province         City  Postal Code Order Date  Ship Date  \\\n",
            "0     West        Washington    Anacortes        98221 2015-01-07 2015-01-08   \n",
            "1     West        California  San Gabriel        91776 2015-06-13 2015-06-15   \n",
            "2     East        New Jersey      Roselle         7203 2015-02-15 2015-02-17   \n",
            "3  Central         Minnesota   Prior Lake        55372 2015-05-12 2015-05-14   \n",
            "4  Central         Minnesota   Prior Lake        55372 2015-05-12 2015-05-13   \n",
            "\n",
            "      Profit Quantity ordered new    Sales Order ID  \n",
            "0     4.5600                    4    13.01    88522  \n",
            "1  4390.3665                   12  6362.85    90193  \n",
            "2   -53.8096                   22   211.15    90192  \n",
            "3   803.4705                   16  1164.45    86838  \n",
            "4   -24.0300                    7    22.23    86838  \n",
            "\n",
            "[5 rows x 25 columns]\n"
          ]
        }
      ]
    }
  ],
  "metadata": {
    "colab": {
      "name": "02. Importing Excel Files - API ",
      "provenance": []
    },
    "kernelspec": {
      "display_name": "Python 3",
      "name": "python3"
    }
  },
  "nbformat": 4,
  "nbformat_minor": 0
}