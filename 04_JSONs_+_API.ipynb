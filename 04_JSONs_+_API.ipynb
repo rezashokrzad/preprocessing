{
  "cells": [
    {
      "cell_type": "markdown",
      "source": [
        "##JSONs:\n",
        "\n",
        "*   JavaScript Object Notation\n",
        "*   JSONs consist of key-value pairs.\n",
        "*   JSONs are human-readable.\n",
        "*   The JSON file format arose out of a growing need for real-time server-to-browser communication.\n",
        "*   The function json.load() will load the JSON into Python as a dictionary."
      ],
      "metadata": {
        "id": "q1_0owoR5PqN"
      }
    },
    {
      "cell_type": "code",
      "source": [
        "!gdown --id 13kNlcFD9CqPRBiNlmYmJnL8DlVAvKW1D"
      ],
      "metadata": {
        "colab": {
          "base_uri": "https://localhost:8080/"
        },
        "id": "TXSQDc5-ANjs",
        "outputId": "7565c1e0-755a-463a-daa0-78fa590fb056"
      },
      "execution_count": 1,
      "outputs": [
        {
          "output_type": "stream",
          "name": "stdout",
          "text": [
            "/usr/local/lib/python3.7/dist-packages/gdown/cli.py:131: FutureWarning: Option `--id` was deprecated in version 4.3.1 and will be removed in 5.0. You don't need to pass it anymore to use a file ID.\n",
            "  category=FutureWarning,\n",
            "Downloading...\n",
            "From: https://drive.google.com/uc?id=13kNlcFD9CqPRBiNlmYmJnL8DlVAvKW1D\n",
            "To: /content/Film.json\n",
            "100% 1.56k/1.56k [00:00<00:00, 2.31MB/s]\n"
          ]
        }
      ]
    },
    {
      "cell_type": "code",
      "execution_count": 2,
      "metadata": {
        "id": "lIYdn1woOS1n"
      },
      "outputs": [],
      "source": [
        "import json\n",
        "with open(\"Film.json\") as json_file:\n",
        "    json_data = json.load(json_file)"
      ]
    },
    {
      "cell_type": "code",
      "source": [
        "type(json_data)"
      ],
      "metadata": {
        "id": "Si0Kokg8-g5E",
        "colab": {
          "base_uri": "https://localhost:8080/"
        },
        "outputId": "6c7eae52-4004-4b6c-c2b9-c2ed914f3fb3"
      },
      "execution_count": 3,
      "outputs": [
        {
          "output_type": "execute_result",
          "data": {
            "text/plain": [
              "dict"
            ]
          },
          "metadata": {},
          "execution_count": 3
        }
      ]
    },
    {
      "cell_type": "code",
      "source": [
        "for key, value in json_data.items():\n",
        "  print(key + ':', value)"
      ],
      "metadata": {
        "id": "eATmSza5-jmx",
        "colab": {
          "base_uri": "https://localhost:8080/"
        },
        "outputId": "a14e4dce-cb3b-484e-dc79-e87a3a789101"
      },
      "execution_count": 4,
      "outputs": [
        {
          "output_type": "stream",
          "name": "stdout",
          "text": [
            "Title: Interstellar\n",
            "Year: 2014\n",
            "Rated: PG-13\n",
            "Released: 07 Nov 2014\n",
            "Runtime: 169 min\n",
            "Genre: Adventure, Drama, Sci-Fi\n",
            "Director: Christopher Nolan\n",
            "Writer: Jonathan Nolan, Christopher Nolan\n",
            "Actors: Ellen Burstyn, Matthew McConaughey, Mackenzie Foy, John Lithgow\n",
            "Plot: A team of explorers travel through a wormhole in space in an attempt to ensure humanity's survival.\n",
            "Language: English\n",
            "Country: USA, UK\n",
            "Awards: Won 1 Oscar. Another 39 wins & 134 nominations.\n",
            "Poster: http://ia.media-imdb.com/images/M/MV5BMjIxNTU4MzY4MF5BMl5BanBnXkFtZTgwMzM4ODI3MjE@._V1_SX300.jpg\n",
            "Metascore: 74\n",
            "imdbRating: 8.6\n",
            "imdbVotes: 937,412\n",
            "imdbID: tt0816692\n",
            "Type: movie\n",
            "Response: True\n",
            "Images: ['https://images-na.ssl-images-amazon.com/images/M/MV5BMjA3NTEwOTMxMV5BMl5BanBnXkFtZTgwMjMyODgxMzE@._V1_SX1500_CR0,0,1500,999_AL_.jpg', 'https://images-na.ssl-images-amazon.com/images/M/MV5BMzQ5ODE2MzEwM15BMl5BanBnXkFtZTgwMTMyODgxMzE@._V1_SX1500_CR0,0,1500,999_AL_.jpg', 'https://images-na.ssl-images-amazon.com/images/M/MV5BMTg4Njk4MzY0Nl5BMl5BanBnXkFtZTgwMzIyODgxMzE@._V1_SX1500_CR0,0,1500,999_AL_.jpg', 'https://images-na.ssl-images-amazon.com/images/M/MV5BMzE3MTM0MTc3Ml5BMl5BanBnXkFtZTgwMDIyODgxMzE@._V1_SX1500_CR0,0,1500,999_AL_.jpg', 'https://images-na.ssl-images-amazon.com/images/M/MV5BNjYzNjE2NDk3N15BMl5BanBnXkFtZTgwNzEyODgxMzE@._V1_SX1500_CR0,0,1500,999_AL_.jpg']\n"
          ]
        }
      ]
    },
    {
      "cell_type": "code",
      "source": [
        "for k in json_data.keys():\n",
        "  print(k + ':', json_data[k])"
      ],
      "metadata": {
        "id": "xAE8zk2J-ns5",
        "colab": {
          "base_uri": "https://localhost:8080/"
        },
        "outputId": "f89666f5-7671-435f-e2d4-4e47517c700d"
      },
      "execution_count": 5,
      "outputs": [
        {
          "output_type": "stream",
          "name": "stdout",
          "text": [
            "Title: Interstellar\n",
            "Year: 2014\n",
            "Rated: PG-13\n",
            "Released: 07 Nov 2014\n",
            "Runtime: 169 min\n",
            "Genre: Adventure, Drama, Sci-Fi\n",
            "Director: Christopher Nolan\n",
            "Writer: Jonathan Nolan, Christopher Nolan\n",
            "Actors: Ellen Burstyn, Matthew McConaughey, Mackenzie Foy, John Lithgow\n",
            "Plot: A team of explorers travel through a wormhole in space in an attempt to ensure humanity's survival.\n",
            "Language: English\n",
            "Country: USA, UK\n",
            "Awards: Won 1 Oscar. Another 39 wins & 134 nominations.\n",
            "Poster: http://ia.media-imdb.com/images/M/MV5BMjIxNTU4MzY4MF5BMl5BanBnXkFtZTgwMzM4ODI3MjE@._V1_SX300.jpg\n",
            "Metascore: 74\n",
            "imdbRating: 8.6\n",
            "imdbVotes: 937,412\n",
            "imdbID: tt0816692\n",
            "Type: movie\n",
            "Response: True\n",
            "Images: ['https://images-na.ssl-images-amazon.com/images/M/MV5BMjA3NTEwOTMxMV5BMl5BanBnXkFtZTgwMjMyODgxMzE@._V1_SX1500_CR0,0,1500,999_AL_.jpg', 'https://images-na.ssl-images-amazon.com/images/M/MV5BMzQ5ODE2MzEwM15BMl5BanBnXkFtZTgwMTMyODgxMzE@._V1_SX1500_CR0,0,1500,999_AL_.jpg', 'https://images-na.ssl-images-amazon.com/images/M/MV5BMTg4Njk4MzY0Nl5BMl5BanBnXkFtZTgwMzIyODgxMzE@._V1_SX1500_CR0,0,1500,999_AL_.jpg', 'https://images-na.ssl-images-amazon.com/images/M/MV5BMzE3MTM0MTc3Ml5BMl5BanBnXkFtZTgwMDIyODgxMzE@._V1_SX1500_CR0,0,1500,999_AL_.jpg', 'https://images-na.ssl-images-amazon.com/images/M/MV5BNjYzNjE2NDk3N15BMl5BanBnXkFtZTgwNzEyODgxMzE@._V1_SX1500_CR0,0,1500,999_AL_.jpg']\n"
          ]
        }
      ]
    }
  ],
  "metadata": {
    "colab": {
      "name": "04. JSONs + API",
      "provenance": [],
      "collapsed_sections": []
    },
    "kernelspec": {
      "display_name": "Python 3",
      "name": "python3"
    }
  },
  "nbformat": 4,
  "nbformat_minor": 0
}