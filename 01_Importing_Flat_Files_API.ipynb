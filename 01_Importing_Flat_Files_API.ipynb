{
  "cells": [
    {
      "cell_type": "markdown",
      "source": [
        "#Importing flat files from the web\n",
        "\n",
        "*   Flat files such as .txt and .csv\n",
        "*   Pickled files, Excel spreadsheets, and many others!\n",
        "*   You can do all these locally\n",
        "*   What if your data is online?"
      ],
      "metadata": {
        "id": "NWoorwV4VBIf"
      }
    },
    {
      "cell_type": "markdown",
      "source": [
        "##UCI Machien Learning Repository\n",
        "[UCI Machien Learning Repository](https://archive.ics.uci.edu/ml/index.php) currently maintains 622 data sets as a service to the machine learning community."
      ],
      "metadata": {
        "id": "oQUGl9ifihiA"
      }
    },
    {
      "cell_type": "code",
      "execution_count": 8,
      "metadata": {
        "id": "lIYdn1woOS1n",
        "colab": {
          "base_uri": "https://localhost:8080/"
        },
        "outputId": "8713eb1d-60f0-45b4-e18b-6a0565f96644"
      },
      "outputs": [
        {
          "output_type": "stream",
          "name": "stdout",
          "text": [
            "     0    1    2    3            4\n",
            "0  5.1  3.5  1.4  0.2  Iris-setosa\n",
            "1  4.9  3.0  1.4  0.2  Iris-setosa\n",
            "2  4.7  3.2  1.3  0.2  Iris-setosa\n",
            "3  4.6  3.1  1.5  0.2  Iris-setosa\n",
            "4  5.0  3.6  1.4  0.2  Iris-setosa\n"
          ]
        }
      ],
      "source": [
        "# Import packages\n",
        "from urllib.request import urlretrieve\n",
        "import pandas as pd\n",
        "\n",
        "# Assign url of file: url\n",
        "url = 'https://archive.ics.uci.edu/ml/machine-learning-databases/iris/iris.data'\n",
        "\n",
        "# Save file locally\n",
        "urlretrieve(url, 'Iris.csv')\n",
        "\n",
        "# Read file into a DataFrame and print its head\n",
        "df = pd.read_csv('Iris.csv', sep=',', header = None)\n",
        "print(df.head())"
      ]
    }
  ],
  "metadata": {
    "colab": {
      "name": "01. Importing Flat Files - API ",
      "provenance": []
    },
    "kernelspec": {
      "display_name": "Python 3",
      "name": "python3"
    }
  },
  "nbformat": 4,
  "nbformat_minor": 0
}